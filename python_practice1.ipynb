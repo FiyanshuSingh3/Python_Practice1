{
 "cells": [
  {
   "cell_type": "code",
   "execution_count": 6,
   "id": "58cdbf2b-18ed-4152-9b76-1826097bd064",
   "metadata": {},
   "outputs": [
    {
     "name": "stdin",
     "output_type": "stream",
     "text": [
      " 9\n"
     ]
    },
    {
     "name": "stdout",
     "output_type": "stream",
     "text": [
      "WEIRD\n"
     ]
    }
   ],
   "source": [
    "n=int(input())\n",
    "if n%2==1:\n",
    "    print(\"WEIRD\")\n",
    "elif n % 2==0:\n",
    "    if 2<=n <=5:\n",
    "        print(\"NOT WEIRD\")\n",
    "    elif 6<=n <=20:\n",
    "        print(\"WEIRD\")\n",
    "    elif n>20:\n",
    "        print(\"NOT WEIRD\")"
   ]
  },
  {
   "cell_type": "code",
   "execution_count": 20,
   "id": "79a6d15a-b30c-45f7-bee0-e81beff3ee63",
   "metadata": {},
   "outputs": [
    {
     "name": "stdin",
     "output_type": "stream",
     "text": [
      " 6\n"
     ]
    },
    {
     "name": "stdout",
     "output_type": "stream",
     "text": [
      "18\n"
     ]
    }
   ],
   "source": [
    "n=int(input())\n",
    "if n<=5:\n",
    "        print(n*2)\n",
    "elif 6 <= n <= 10:\n",
    "         print(n*3)\n",
    "elif 11<=n <=15:\n",
    "        print(n*4)\n",
    "else:\n",
    "        print(n*5)"
   ]
  },
  {
   "cell_type": "code",
   "execution_count": 22,
   "id": "42ec7a29-83ca-416c-ac0b-9cf2031efb3d",
   "metadata": {},
   "outputs": [
    {
     "name": "stdin",
     "output_type": "stream",
     "text": [
      "Enter a character: i\n"
     ]
    },
    {
     "name": "stdout",
     "output_type": "stream",
     "text": [
      "i is a vowel\n"
     ]
    }
   ],
   "source": [
    "vow =\"aeiouAEIOU\"\n",
    "def is_vowel(char):\n",
    "    if len(char)== 1 and char.isalpha():\n",
    "        return char in vow\n",
    "    else:\n",
    "        return False\n",
    "char = input (\"Enter a character:\")  \n",
    "\n",
    "if is_vowel(char):\n",
    "    print(f\"{char} is a vowel\")\n",
    "else:\n",
    "    print(f\"{char} is not a vowel\")"
   ]
  },
  {
   "cell_type": "code",
   "execution_count": null,
   "id": "1a180a38-a3ce-42d6-8722-43b6e4be8a45",
   "metadata": {},
   "outputs": [],
   "source": []
  }
 ],
 "metadata": {
  "kernelspec": {
   "display_name": "Python 3 (ipykernel)",
   "language": "python",
   "name": "python3"
  },
  "language_info": {
   "codemirror_mode": {
    "name": "ipython",
    "version": 3
   },
   "file_extension": ".py",
   "mimetype": "text/x-python",
   "name": "python",
   "nbconvert_exporter": "python",
   "pygments_lexer": "ipython3",
   "version": "3.12.4"
  }
 },
 "nbformat": 4,
 "nbformat_minor": 5
}
